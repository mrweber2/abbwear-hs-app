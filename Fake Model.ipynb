{
 "cells": [
  {
   "cell_type": "code",
   "execution_count": 719,
   "metadata": {
    "ExecuteTime": {
     "end_time": "2019-06-27T01:17:55.367977Z",
     "start_time": "2019-06-27T01:17:55.357095Z"
    }
   },
   "outputs": [],
   "source": [
    "#importing dependencies\n",
    "import pandas as pd\n",
    "import numpy as np\n",
    "from sklearn.svm import SVC\n",
    "from sklearn.preprocessing import normalize,StandardScaler\n",
    "from sklearn.linear_model import LogisticRegression\n",
    "from sklearn.metrics import classification_report\n",
    "from sklearn.model_selection import train_test_split,cross_val_score\n",
    "from sklearn.ensemble import RandomForestClassifier\n",
    "import seaborn as sns\n",
    "import warnings\n",
    "# Sort feature importances in descending order\n",
    "import matplotlib \n",
    "import matplotlib.pyplot as plt\n",
    "warnings.filterwarnings(\"ignore\")"
   ]
  },
  {
   "cell_type": "code",
   "execution_count": 720,
   "metadata": {
    "ExecuteTime": {
     "end_time": "2019-06-27T01:18:30.110662Z",
     "start_time": "2019-06-27T01:18:30.038652Z"
    },
    "collapsed": true
   },
   "outputs": [],
   "source": [
    "#read in csv\n",
    "april = pd.read_csv(\"dailyActivity_merged_april.csv\")\n",
    "may = pd.read_csv(\"dailyActivity_merged.csv\")"
   ]
  },
  {
   "cell_type": "code",
   "execution_count": 721,
   "metadata": {
    "ExecuteTime": {
     "end_time": "2019-06-27T01:18:30.588071Z",
     "start_time": "2019-06-27T01:18:30.574172Z"
    }
   },
   "outputs": [],
   "source": [
    "#combine files\n",
    "combined =pd.concat([april,may])\n",
    "combined.drop( \"ActivityDate\",inplace = True,axis = 1)"
   ]
  },
  {
   "cell_type": "code",
   "execution_count": 608,
   "metadata": {
    "ExecuteTime": {
     "end_time": "2019-06-26T21:28:20.614404Z",
     "start_time": "2019-06-26T21:28:20.602431Z"
    }
   },
   "outputs": [],
   "source": [
    "#combining data\n",
    "combined.head()\n",
    "combined[\"Combined\"] = combined.TotalSteps + combined.TotalDistance + combined.LoggedActivitiesDistance + combined.VeryActiveDistance \\\n",
    "    + combined.ModeratelyActiveDistance + combined.Calories + combined.LightActiveDistance"
   ]
  },
  {
   "cell_type": "code",
   "execution_count": 435,
   "metadata": {
    "ExecuteTime": {
     "end_time": "2019-06-26T19:02:55.409783Z",
     "start_time": "2019-06-26T19:02:55.394710Z"
    }
   },
   "outputs": [
    {
     "name": "stdout",
     "output_type": "stream",
     "text": [
      "50 % for total steps is 5045.599999904633\n",
      "50 % for total steps is 9385.800000190735\n",
      "75 % for total steps is 13178.850000083447\n"
     ]
    }
   ],
   "source": [
    "#printing quartiles\n",
    "print(\"50 % for total steps is {}\".format(combined.Combined.quantile(q=.25)))\n",
    "print(\"50 % for total steps is {}\".format(combined.Combined.quantile()))\n",
    "print(\"75 % for total steps is {}\".format(combined.Combined.quantile(q=.75)))"
   ]
  },
  {
   "cell_type": "code",
   "execution_count": 436,
   "metadata": {
    "ExecuteTime": {
     "end_time": "2019-06-26T19:02:55.851487Z",
     "start_time": "2019-06-26T19:02:55.843508Z"
    },
    "collapsed": true
   },
   "outputs": [],
   "source": [
    "def home_away(df):\n",
    "    \"\"\"Put fake home/away\"\"\"\n",
    "    if df.Combined >= 9385:\n",
    "        return 1\n",
    "    else:\n",
    "        return 0"
   ]
  },
  {
   "cell_type": "code",
   "execution_count": 437,
   "metadata": {
    "ExecuteTime": {
     "end_time": "2019-06-26T19:02:56.565690Z",
     "start_time": "2019-06-26T19:02:56.506817Z"
    }
   },
   "outputs": [],
   "source": [
    "combined[\"Home_Away\"] = combined.apply(func = lambda x: home_away(x),axis = 1)"
   ]
  },
  {
   "cell_type": "code",
   "execution_count": 438,
   "metadata": {
    "ExecuteTime": {
     "end_time": "2019-06-26T19:02:56.848395Z",
     "start_time": "2019-06-26T19:02:56.832425Z"
    },
    "collapsed": true
   },
   "outputs": [],
   "source": [
    "def generate_random_labels(df):\n",
    "    \"\"\"Generate rigged labels for classification algorithm to predict\"\"\"\n",
    "    if df.Combined < 5045:\n",
    "        return 0\n",
    "    elif df.Combined >= 5045 and df.Combined  < 9385:\n",
    "        return 1\n",
    "    elif df.Combined >=9385 and df.Combined < 13178:\n",
    "        return 2\n",
    "    else:\n",
    "        return 3\n",
    "    "
   ]
  },
  {
   "cell_type": "code",
   "execution_count": 439,
   "metadata": {
    "ExecuteTime": {
     "end_time": "2019-06-26T19:02:57.462227Z",
     "start_time": "2019-06-26T19:02:57.315731Z"
    },
    "collapsed": true
   },
   "outputs": [],
   "source": [
    "combined.target = combined.apply(func = lambda x: generate_random_labels(x),axis = 1)"
   ]
  },
  {
   "cell_type": "code",
   "execution_count": 440,
   "metadata": {
    "ExecuteTime": {
     "end_time": "2019-06-26T19:02:58.963918Z",
     "start_time": "2019-06-26T19:02:58.256762Z"
    }
   },
   "outputs": [
    {
     "name": "stdout",
     "output_type": "stream",
     "text": [
      "1.0\n",
      "new\n",
      "4.0\n",
      "1.0\n",
      "new\n",
      "1.0\n",
      "1.0\n",
      "new\n",
      "0.0\n",
      "1.0\n",
      "new\n",
      "1.0\n",
      "0.0\n",
      "new\n",
      "0.0\n",
      "0.0\n",
      "new\n",
      "2.0\n",
      "0.0\n",
      "new\n",
      "4.0\n",
      "0.0\n",
      "new\n",
      "2.0\n",
      "1.0\n",
      "new\n",
      "0.0\n",
      "1.0\n",
      "new\n",
      "2.0\n",
      "0.0\n",
      "new\n",
      "4.0\n",
      "0.0\n",
      "new\n",
      "1.0\n",
      "0.0\n",
      "new\n",
      "4.0\n",
      "0.0\n",
      "new\n",
      "2.0\n",
      "0.0\n",
      "new\n",
      "0.0\n",
      "1.0\n",
      "new\n",
      "0.0\n",
      "1.0\n",
      "new\n",
      "0.0\n",
      "0.0\n",
      "new\n",
      "2.0\n",
      "0.0\n",
      "new\n",
      "2.0\n",
      "0.0\n",
      "new\n",
      "4.0\n",
      "0.0\n",
      "new\n",
      "3.0\n",
      "0.0\n",
      "new\n",
      "0.0\n",
      "0.0\n",
      "new\n",
      "1.0\n",
      "1.0\n",
      "new\n",
      "0.0\n",
      "1.0\n",
      "new\n",
      "1.0\n",
      "1.0\n",
      "new\n",
      "1.0\n",
      "0.0\n",
      "new\n",
      "2.0\n",
      "0.0\n",
      "new\n",
      "1.0\n",
      "0.0\n",
      "new\n",
      "0.0\n",
      "0.0\n",
      "new\n",
      "4.0\n",
      "0.0\n",
      "new\n",
      "0.0\n",
      "1.0\n",
      "new\n",
      "3.0\n",
      "1.0\n",
      "new\n",
      "2.0\n",
      "0.0\n",
      "new\n",
      "3.0\n",
      "1.0\n",
      "new\n",
      "3.0\n",
      "1.0\n",
      "new\n",
      "1.0\n",
      "1.0\n",
      "new\n",
      "4.0\n",
      "0.0\n",
      "new\n",
      "1.0\n",
      "1.0\n",
      "new\n",
      "0.0\n",
      "0.0\n",
      "new\n",
      "3.0\n",
      "0.0\n",
      "new\n",
      "0.0\n",
      "0.0\n",
      "new\n",
      "4.0\n",
      "0.0\n",
      "new\n",
      "1.0\n",
      "0.0\n",
      "new\n",
      "1.0\n",
      "0.0\n",
      "new\n",
      "1.0\n",
      "0.0\n",
      "new\n",
      "0.0\n",
      "1.0\n",
      "new\n",
      "2.0\n",
      "1.0\n",
      "new\n",
      "1.0\n",
      "0.0\n",
      "new\n",
      "4.0\n",
      "0.0\n",
      "new\n",
      "2.0\n",
      "0.0\n",
      "new\n",
      "3.0\n",
      "0.0\n",
      "new\n",
      "4.0\n",
      "0.0\n",
      "new\n",
      "2.0\n",
      "0.0\n",
      "new\n",
      "4.0\n",
      "1.0\n",
      "new\n",
      "3.0\n",
      "0.0\n",
      "new\n",
      "0.0\n",
      "1.0\n",
      "new\n",
      "2.0\n",
      "1.0\n",
      "new\n",
      "0.0\n",
      "0.0\n",
      "new\n",
      "2.0\n",
      "1.0\n",
      "new\n",
      "2.0\n",
      "0.0\n",
      "new\n",
      "2.0\n",
      "1.0\n",
      "new\n",
      "1.0\n",
      "0.0\n",
      "new\n",
      "3.0\n",
      "1.0\n",
      "new\n",
      "4.0\n",
      "0.0\n",
      "new\n",
      "1.0\n",
      "1.0\n",
      "new\n",
      "3.0\n",
      "0.0\n",
      "new\n",
      "3.0\n",
      "0.0\n",
      "new\n",
      "0.0\n",
      "0.0\n",
      "new\n",
      "2.0\n",
      "0.0\n",
      "new\n",
      "2.0\n",
      "0.0\n",
      "new\n",
      "3.0\n",
      "1.0\n",
      "new\n",
      "2.0\n",
      "1.0\n",
      "new\n",
      "3.0\n",
      "0.0\n",
      "new\n",
      "4.0\n",
      "1.0\n",
      "new\n",
      "2.0\n",
      "1.0\n",
      "new\n",
      "3.0\n",
      "0.0\n",
      "new\n",
      "1.0\n",
      "1.0\n",
      "new\n",
      "0.0\n",
      "1.0\n",
      "new\n",
      "0.0\n",
      "1.0\n",
      "new\n",
      "1.0\n",
      "0.0\n",
      "new\n",
      "2.0\n",
      "0.0\n",
      "new\n",
      "3.0\n",
      "0.0\n",
      "new\n",
      "0.0\n",
      "1.0\n",
      "new\n",
      "2.0\n",
      "1.0\n",
      "new\n",
      "4.0\n",
      "0.0\n",
      "new\n",
      "3.0\n",
      "0.0\n",
      "new\n",
      "3.0\n",
      "1.0\n",
      "new\n",
      "1.0\n",
      "0.0\n",
      "new\n",
      "3.0\n",
      "1.0\n",
      "new\n",
      "2.0\n",
      "1.0\n",
      "new\n",
      "2.0\n",
      "1.0\n",
      "new\n",
      "2.0\n",
      "1.0\n",
      "new\n",
      "2.0\n",
      "1.0\n",
      "new\n",
      "0.0\n",
      "1.0\n",
      "new\n",
      "3.0\n",
      "1.0\n",
      "new\n",
      "2.0\n",
      "1.0\n",
      "new\n",
      "1.0\n",
      "1.0\n",
      "new\n",
      "1.0\n",
      "1.0\n",
      "new\n",
      "0.0\n",
      "0.0\n",
      "new\n",
      "1.0\n",
      "0.0\n",
      "new\n",
      "3.0\n",
      "0.0\n",
      "new\n",
      "1.0\n",
      "0.0\n",
      "new\n",
      "0.0\n",
      "0.0\n",
      "new\n",
      "2.0\n",
      "1.0\n",
      "new\n",
      "0.0\n",
      "1.0\n",
      "new\n",
      "4.0\n",
      "0.0\n",
      "new\n",
      "2.0\n",
      "1.0\n",
      "new\n",
      "3.0\n",
      "1.0\n",
      "new\n",
      "3.0\n",
      "1.0\n",
      "new\n",
      "0.0\n",
      "0.0\n",
      "new\n",
      "2.0\n",
      "0.0\n",
      "new\n",
      "1.0\n",
      "0.0\n",
      "new\n",
      "1.0\n",
      "0.0\n",
      "new\n",
      "4.0\n",
      "0.0\n",
      "new\n",
      "3.0\n",
      "0.0\n",
      "new\n",
      "2.0\n",
      "0.0\n",
      "new\n",
      "3.0\n",
      "0.0\n",
      "new\n",
      "0.0\n",
      "0.0\n",
      "new\n",
      "1.0\n",
      "0.0\n",
      "new\n",
      "2.0\n",
      "0.0\n",
      "new\n",
      "3.0\n",
      "0.0\n",
      "new\n",
      "0.0\n",
      "0.0\n",
      "new\n",
      "0.0\n",
      "1.0\n",
      "new\n",
      "2.0\n",
      "1.0\n",
      "new\n",
      "0.0\n",
      "1.0\n",
      "new\n",
      "0.0\n",
      "1.0\n",
      "new\n",
      "1.0\n",
      "1.0\n",
      "new\n",
      "1.0\n",
      "1.0\n",
      "new\n",
      "2.0\n",
      "0.0\n",
      "new\n",
      "2.0\n",
      "0.0\n",
      "new\n",
      "3.0\n",
      "0.0\n",
      "new\n",
      "3.0\n",
      "0.0\n",
      "new\n",
      "3.0\n",
      "1.0\n",
      "new\n",
      "4.0\n",
      "0.0\n",
      "new\n",
      "3.0\n",
      "0.0\n",
      "new\n",
      "1.0\n",
      "0.0\n",
      "new\n",
      "3.0\n",
      "0.0\n",
      "new\n",
      "3.0\n",
      "0.0\n",
      "new\n",
      "0.0\n",
      "0.0\n",
      "new\n",
      "3.0\n",
      "0.0\n",
      "new\n",
      "0.0\n",
      "1.0\n",
      "new\n",
      "4.0\n",
      "1.0\n",
      "new\n",
      "3.0\n",
      "1.0\n",
      "new\n",
      "3.0\n",
      "0.0\n",
      "new\n",
      "4.0\n",
      "1.0\n",
      "new\n",
      "1.0\n",
      "1.0\n",
      "new\n",
      "2.0\n",
      "0.0\n",
      "new\n",
      "1.0\n",
      "1.0\n",
      "new\n",
      "3.0\n",
      "1.0\n",
      "new\n",
      "1.0\n",
      "1.0\n",
      "new\n",
      "2.0\n",
      "1.0\n",
      "new\n",
      "2.0\n",
      "1.0\n",
      "new\n",
      "2.0\n",
      "0.0\n",
      "new\n",
      "3.0\n",
      "1.0\n",
      "new\n",
      "2.0\n",
      "0.0\n",
      "new\n",
      "3.0\n",
      "1.0\n",
      "new\n",
      "0.0\n",
      "1.0\n",
      "new\n",
      "3.0\n",
      "1.0\n",
      "new\n",
      "4.0\n",
      "1.0\n",
      "new\n",
      "1.0\n",
      "1.0\n",
      "new\n",
      "2.0\n",
      "0.0\n",
      "new\n",
      "2.0\n",
      "0.0\n",
      "new\n",
      "2.0\n",
      "0.0\n",
      "new\n",
      "0.0\n",
      "0.0\n",
      "new\n",
      "2.0\n",
      "1.0\n",
      "new\n",
      "2.0\n",
      "0.0\n",
      "new\n",
      "1.0\n",
      "0.0\n",
      "new\n",
      "1.0\n",
      "1.0\n",
      "new\n",
      "2.0\n",
      "1.0\n",
      "new\n",
      "1.0\n",
      "0.0\n",
      "new\n",
      "0.0\n",
      "1.0\n",
      "new\n",
      "0.0\n",
      "1.0\n",
      "new\n",
      "1.0\n",
      "1.0\n",
      "new\n",
      "3.0\n",
      "1.0\n",
      "new\n",
      "0.0\n",
      "1.0\n",
      "new\n",
      "1.0\n",
      "1.0\n",
      "new\n",
      "3.0\n",
      "1.0\n",
      "new\n",
      "4.0\n",
      "1.0\n",
      "new\n",
      "4.0\n",
      "1.0\n",
      "new\n",
      "0.0\n",
      "0.0\n",
      "new\n",
      "3.0\n",
      "0.0\n",
      "new\n",
      "0.0\n",
      "0.0\n",
      "new\n",
      "2.0\n",
      "1.0\n",
      "new\n",
      "0.0\n",
      "0.0\n",
      "new\n",
      "0.0\n",
      "0.0\n",
      "new\n",
      "1.0\n",
      "0.0\n",
      "new\n",
      "1.0\n",
      "0.0\n",
      "new\n",
      "2.0\n",
      "1.0\n",
      "new\n",
      "2.0\n",
      "1.0\n",
      "new\n",
      "1.0\n",
      "0.0\n",
      "new\n",
      "1.0\n",
      "0.0\n",
      "new\n",
      "1.0\n",
      "1.0\n",
      "new\n",
      "2.0\n",
      "1.0\n",
      "new\n",
      "4.0\n",
      "1.0\n",
      "new\n",
      "2.0\n",
      "1.0\n",
      "new\n",
      "3.0\n",
      "1.0\n",
      "new\n",
      "4.0\n",
      "1.0\n",
      "new\n",
      "0.0\n",
      "1.0\n",
      "new\n",
      "3.0\n",
      "1.0\n",
      "new\n",
      "1.0\n",
      "1.0\n",
      "new\n",
      "0.0\n",
      "0.0\n",
      "new\n",
      "3.0\n",
      "1.0\n",
      "new\n",
      "4.0\n",
      "0.0\n",
      "new\n",
      "0.0\n",
      "1.0\n",
      "new\n",
      "1.0\n",
      "0.0\n",
      "new\n",
      "4.0\n",
      "1.0\n",
      "new\n",
      "4.0\n",
      "1.0\n",
      "new\n",
      "4.0\n",
      "1.0\n",
      "new\n",
      "0.0\n",
      "1.0\n",
      "new\n",
      "1.0\n",
      "0.0\n",
      "new\n",
      "0.0\n",
      "0.0\n",
      "new\n",
      "1.0\n",
      "0.0\n",
      "new\n",
      "3.0\n",
      "1.0\n",
      "new\n",
      "3.0\n",
      "0.0\n",
      "new\n",
      "1.0\n",
      "0.0\n",
      "new\n",
      "0.0\n",
      "1.0\n",
      "new\n",
      "1.0\n",
      "1.0\n",
      "new\n",
      "3.0\n",
      "0.0\n",
      "new\n",
      "1.0\n",
      "1.0\n",
      "new\n",
      "2.0\n",
      "1.0\n",
      "new\n",
      "3.0\n",
      "0.0\n",
      "new\n",
      "2.0\n",
      "0.0\n",
      "new\n",
      "3.0\n",
      "0.0\n",
      "new\n",
      "4.0\n",
      "0.0\n",
      "new\n",
      "2.0\n",
      "1.0\n",
      "new\n",
      "3.0\n",
      "0.0\n",
      "new\n",
      "1.0\n",
      "0.0\n",
      "new\n",
      "3.0\n",
      "0.0\n",
      "new\n",
      "3.0\n",
      "1.0\n",
      "new\n",
      "2.0\n",
      "1.0\n",
      "new\n",
      "2.0\n",
      "1.0\n",
      "new\n",
      "0.0\n",
      "1.0\n",
      "new\n",
      "0.0\n",
      "1.0\n",
      "new\n",
      "0.0\n",
      "1.0\n",
      "new\n",
      "1.0\n",
      "1.0\n",
      "new\n",
      "1.0\n",
      "1.0\n",
      "new\n",
      "1.0\n",
      "1.0\n",
      "new\n",
      "0.0\n",
      "0.0\n",
      "new\n",
      "2.0\n",
      "0.0\n",
      "new\n",
      "1.0\n",
      "1.0\n",
      "new\n",
      "4.0\n",
      "0.0\n",
      "new\n",
      "0.0\n",
      "1.0\n",
      "new\n",
      "0.0\n",
      "1.0\n",
      "new\n",
      "4.0\n",
      "1.0\n",
      "new\n",
      "4.0\n",
      "1.0\n",
      "new\n",
      "0.0\n",
      "1.0\n",
      "new\n",
      "2.0\n",
      "1.0\n",
      "new\n",
      "3.0\n",
      "1.0\n",
      "new\n",
      "2.0\n",
      "0.0\n",
      "new\n",
      "4.0\n",
      "1.0\n",
      "new\n",
      "2.0\n",
      "0.0\n",
      "new\n",
      "0.0\n",
      "1.0\n",
      "new\n",
      "3.0\n",
      "1.0\n",
      "new\n",
      "1.0\n",
      "0.0\n",
      "new\n",
      "2.0\n",
      "1.0\n",
      "new\n",
      "1.0\n",
      "0.0\n",
      "new\n",
      "2.0\n",
      "1.0\n",
      "new\n",
      "0.0\n",
      "1.0\n",
      "new\n",
      "0.0\n",
      "1.0\n",
      "new\n",
      "4.0\n",
      "0.0\n",
      "new\n",
      "0.0\n",
      "0.0\n",
      "new\n",
      "0.0\n",
      "0.0\n",
      "new\n",
      "3.0\n",
      "1.0\n",
      "new\n",
      "0.0\n",
      "1.0\n",
      "new\n",
      "2.0\n",
      "0.0\n",
      "new\n",
      "4.0\n",
      "0.0\n",
      "new\n",
      "1.0\n",
      "1.0\n",
      "new\n",
      "2.0\n",
      "0.0\n",
      "new\n",
      "2.0\n",
      "0.0\n",
      "new\n",
      "3.0\n",
      "0.0\n",
      "new\n",
      "4.0\n",
      "1.0\n",
      "new\n",
      "4.0\n",
      "0.0\n",
      "new\n",
      "4.0\n",
      "0.0\n",
      "new\n",
      "4.0\n",
      "1.0\n",
      "new\n",
      "3.0\n",
      "1.0\n",
      "new\n",
      "0.0\n",
      "1.0\n",
      "new\n",
      "4.0\n",
      "1.0\n",
      "new\n",
      "3.0\n",
      "1.0\n",
      "new\n",
      "1.0\n",
      "1.0\n",
      "new\n",
      "2.0\n"
     ]
    }
   ],
   "source": [
    "#randomly replace targets\n",
    "#add unpredictability\n",
    "for num,value in enumerate(combined.target.values):\n",
    "    if num % 5 == 0:\n",
    "        print(combined.iloc[num,-1])\n",
    "        combined.iloc[num,-1] = np.random.choice(5)\n",
    "        print(\"new\")\n",
    "        print(combined.iloc[num,-1])"
   ]
  },
  {
   "cell_type": "code",
   "execution_count": 441,
   "metadata": {
    "ExecuteTime": {
     "end_time": "2019-06-26T19:03:01.166106Z",
     "start_time": "2019-06-26T19:03:01.159107Z"
    },
    "collapsed": true
   },
   "outputs": [],
   "source": [
    "output_dict = {3: \"Healed\", 2:\"Stage 1 HS\", 1: \"Stage 2 HS\", 0: \" Stage 3 HS\"} #what model corresponds to\n",
    "home_away = {0: \"Stayed Home\", 1: \"Left House\"}"
   ]
  },
  {
   "cell_type": "code",
   "execution_count": 445,
   "metadata": {
    "ExecuteTime": {
     "end_time": "2019-06-26T19:03:46.784094Z",
     "start_time": "2019-06-26T19:03:46.768664Z"
    }
   },
   "outputs": [
    {
     "name": "stdout",
     "output_type": "stream",
     "text": [
      "(1397, 14)\n",
      "['TotalSteps', 'TotalDistance', 'TrackerDistance', 'LoggedActivitiesDistance', 'VeryActiveDistance', 'ModeratelyActiveDistance', 'LightActiveDistance', 'SedentaryActiveDistance', 'VeryActiveMinutes', 'FairlyActiveMinutes', 'LightlyActiveMinutes', 'SedentaryMinutes', 'Calories', 'Combined']\n",
      "(1397, 14)\n"
     ]
    }
   ],
   "source": [
    "#prepare X and y \n",
    "X = combined.iloc[:, 1:-1]\n",
    "print(X.shape)\n",
    "print(list(X))\n",
    "st = StandardScaler()\n",
    "X_ = st.fit_transform(X)\n",
    "print(X_.shape)"
   ]
  },
  {
   "cell_type": "code",
   "execution_count": 446,
   "metadata": {
    "ExecuteTime": {
     "end_time": "2019-06-26T19:03:48.145866Z",
     "start_time": "2019-06-26T19:03:48.140976Z"
    },
    "collapsed": true
   },
   "outputs": [],
   "source": [
    "y = combined.target"
   ]
  },
  {
   "cell_type": "code",
   "execution_count": 447,
   "metadata": {
    "ExecuteTime": {
     "end_time": "2019-06-26T19:03:49.664457Z",
     "start_time": "2019-06-26T19:03:49.657476Z"
    },
    "collapsed": true
   },
   "outputs": [],
   "source": [
    "log_ = LogisticRegression(multi_class = \"multinomial\",solver='lbfgs',) #define logistic regression"
   ]
  },
  {
   "cell_type": "code",
   "execution_count": 448,
   "metadata": {
    "ExecuteTime": {
     "end_time": "2019-06-26T19:03:50.100662Z",
     "start_time": "2019-06-26T19:03:50.089681Z"
    },
    "collapsed": true
   },
   "outputs": [],
   "source": [
    "X_train, X_test, y_train, y_test = train_test_split(X, y) #train test split"
   ]
  },
  {
   "cell_type": "code",
   "execution_count": 449,
   "metadata": {
    "ExecuteTime": {
     "end_time": "2019-06-26T19:03:50.653506Z",
     "start_time": "2019-06-26T19:03:50.531833Z"
    }
   },
   "outputs": [
    {
     "data": {
      "text/plain": [
       "LogisticRegression(C=1.0, class_weight=None, dual=False, fit_intercept=True,\n",
       "          intercept_scaling=1, max_iter=100, multi_class='multinomial',\n",
       "          n_jobs=1, penalty='l2', random_state=None, solver='lbfgs',\n",
       "          tol=0.0001, verbose=0, warm_start=False)"
      ]
     },
     "execution_count": 449,
     "metadata": {},
     "output_type": "execute_result"
    }
   ],
   "source": [
    "log_.fit(X_train,y_train) #log fit"
   ]
  },
  {
   "cell_type": "code",
   "execution_count": 450,
   "metadata": {
    "ExecuteTime": {
     "end_time": "2019-06-26T19:03:51.099696Z",
     "start_time": "2019-06-26T19:03:51.092714Z"
    },
    "collapsed": true
   },
   "outputs": [],
   "source": [
    "pred = log_.predict(X_test) #predict"
   ]
  },
  {
   "cell_type": "code",
   "execution_count": 451,
   "metadata": {
    "ExecuteTime": {
     "end_time": "2019-06-26T19:03:51.775614Z",
     "start_time": "2019-06-26T19:03:51.764641Z"
    }
   },
   "outputs": [
    {
     "name": "stdout",
     "output_type": "stream",
     "text": [
      "             precision    recall  f1-score   support\n",
      "\n",
      "          0       0.88      0.87      0.88        78\n",
      "          1       0.74      0.64      0.69        84\n",
      "          2       0.66      0.66      0.66        93\n",
      "          3       0.79      0.89      0.84        95\n",
      "\n",
      "avg / total       0.76      0.77      0.76       350\n",
      "\n"
     ]
    }
   ],
   "source": [
    "print(classification_report(y_test,pred))#classification report"
   ]
  },
  {
   "cell_type": "code",
   "execution_count": 452,
   "metadata": {
    "ExecuteTime": {
     "end_time": "2019-06-26T19:03:55.204486Z",
     "start_time": "2019-06-26T19:03:55.197649Z"
    },
    "collapsed": true
   },
   "outputs": [],
   "source": [
    "clf = RandomForestClassifier() #random forrest"
   ]
  },
  {
   "cell_type": "code",
   "execution_count": 453,
   "metadata": {
    "ExecuteTime": {
     "end_time": "2019-06-26T19:03:55.940252Z",
     "start_time": "2019-06-26T19:03:55.896207Z"
    }
   },
   "outputs": [
    {
     "data": {
      "text/plain": [
       "RandomForestClassifier(bootstrap=True, class_weight=None, criterion='gini',\n",
       "            max_depth=None, max_features='auto', max_leaf_nodes=None,\n",
       "            min_impurity_decrease=0.0, min_impurity_split=None,\n",
       "            min_samples_leaf=1, min_samples_split=2,\n",
       "            min_weight_fraction_leaf=0.0, n_estimators=10, n_jobs=1,\n",
       "            oob_score=False, random_state=None, verbose=0,\n",
       "            warm_start=False)"
      ]
     },
     "execution_count": 453,
     "metadata": {},
     "output_type": "execute_result"
    }
   ],
   "source": [
    "clf.fit(X_train,y_train) #fit"
   ]
  },
  {
   "cell_type": "code",
   "execution_count": 454,
   "metadata": {
    "ExecuteTime": {
     "end_time": "2019-06-26T19:03:56.229358Z",
     "start_time": "2019-06-26T19:03:56.220341Z"
    },
    "collapsed": true
   },
   "outputs": [],
   "source": [
    "pred_clf = clf.predict(X_test)#predict\n"
   ]
  },
  {
   "cell_type": "code",
   "execution_count": 455,
   "metadata": {
    "ExecuteTime": {
     "end_time": "2019-06-26T19:03:56.687015Z",
     "start_time": "2019-06-26T19:03:56.677036Z"
    }
   },
   "outputs": [
    {
     "name": "stdout",
     "output_type": "stream",
     "text": [
      "             precision    recall  f1-score   support\n",
      "\n",
      "          0       0.97      1.00      0.99        78\n",
      "          1       0.98      0.94      0.96        84\n",
      "          2       0.95      0.98      0.96        93\n",
      "          3       1.00      0.98      0.99        95\n",
      "\n",
      "avg / total       0.97      0.97      0.97       350\n",
      "\n"
     ]
    }
   ],
   "source": [
    "print(classification_report(y_test,pred_clf))"
   ]
  },
  {
   "cell_type": "markdown",
   "metadata": {},
   "source": [
    "## cross - validation"
   ]
  },
  {
   "cell_type": "code",
   "execution_count": 460,
   "metadata": {
    "ExecuteTime": {
     "end_time": "2019-06-26T19:08:22.618470Z",
     "start_time": "2019-06-26T19:08:22.605503Z"
    },
    "collapsed": true
   },
   "outputs": [],
   "source": [
    "def custom_cv_5folds(X):\n",
    "    \"\"\"Defining 5 fold iterator\"\"\"\n",
    "    n = X.shape[0]\n",
    "    i = 1\n",
    "    while i <= 5:\n",
    "        idx = np.arange(n * (i - 1) / 5, n * i / 5, dtype=int)\n",
    "        yield idx, idx\n",
    "        i += 1"
   ]
  },
  {
   "cell_type": "code",
   "execution_count": 467,
   "metadata": {
    "ExecuteTime": {
     "end_time": "2019-06-26T19:09:08.340277Z",
     "start_time": "2019-06-26T19:09:08.333159Z"
    },
    "collapsed": true
   },
   "outputs": [],
   "source": [
    "custom_cv = custom_cv_5folds(X)"
   ]
  },
  {
   "cell_type": "code",
   "execution_count": 468,
   "metadata": {
    "ExecuteTime": {
     "end_time": "2019-06-26T19:09:08.928565Z",
     "start_time": "2019-06-26T19:09:08.922583Z"
    },
    "collapsed": true
   },
   "outputs": [],
   "source": [
    "log_ = LogisticRegression(multi_class = \"multinomial\",solver='lbfgs',)"
   ]
  },
  {
   "cell_type": "code",
   "execution_count": 469,
   "metadata": {
    "ExecuteTime": {
     "end_time": "2019-06-26T19:09:09.565861Z",
     "start_time": "2019-06-26T19:09:09.292591Z"
    }
   },
   "outputs": [
    {
     "data": {
      "text/plain": [
       "array([0.76428571, 0.78571429, 0.77857143, 0.78214286, 0.79285714])"
      ]
     },
     "execution_count": 469,
     "metadata": {},
     "output_type": "execute_result"
    }
   ],
   "source": [
    "cross_val_score(log_, X, y, cv=custom_cv) #cross val score"
   ]
  },
  {
   "cell_type": "markdown",
   "metadata": {},
   "source": [
    "# App Response Model"
   ]
  },
  {
   "cell_type": "code",
   "execution_count": 562,
   "metadata": {
    "ExecuteTime": {
     "end_time": "2019-06-26T19:23:25.888204Z",
     "start_time": "2019-06-26T19:23:25.881225Z"
    },
    "collapsed": true
   },
   "outputs": [],
   "source": [
    "app_df = pd.DataFrame() #raw df"
   ]
  },
  {
   "cell_type": "code",
   "execution_count": 563,
   "metadata": {
    "ExecuteTime": {
     "end_time": "2019-06-26T19:23:26.353682Z",
     "start_time": "2019-06-26T19:23:26.221425Z"
    }
   },
   "outputs": [],
   "source": [
    "import random\n",
    "#creating dataframe that represents each question that Alexa asks plus additional data from journal entry\n",
    "columns_ = [\"Itchy\",\"Embarassed\",\"Interfered\",\"Clothes\",\"Social\",\"Sport\",\"Partner\",\"Sexual\",\n",
    "          \"Messy\",\"Drainage\",\"Odor\",\"Swelling\",\"Sentiment\",\"Flesch-Kincaid\",\"Length_of_response\"]\n",
    "for col in columns_[:-3]:\n",
    "    empty = []\n",
    "    i = 0\n",
    "    random_ = random.uniform(3,5)\n",
    "    num = random.uniform(1,5)\n",
    "    while num == random_:\n",
    "        num = random.uniform(1,5)\n",
    "    while i < 1397:\n",
    "        if i!=0 and i % num == 0:\n",
    "            empty.append(0)\n",
    "        elif i % random_ ==0:\n",
    "            empty.append(np.random.choice(4))\n",
    "        elif i >=0 and i < 350:\n",
    "            empty.append(1)\n",
    "        elif i >=350 and i < 700:\n",
    "            empty.append(2)\n",
    "        elif i>=700 and i <=1050:\n",
    "            empty.append(3)\n",
    "        else:\n",
    "            empty.append(4)\n",
    "        i+=1\n",
    "    app_df[col] = empty"
   ]
  },
  {
   "cell_type": "code",
   "execution_count": 564,
   "metadata": {
    "ExecuteTime": {
     "end_time": "2019-06-26T19:23:26.978859Z",
     "start_time": "2019-06-26T19:23:26.947395Z"
    }
   },
   "outputs": [],
   "source": [
    "sentiment = []\n",
    "flesch = []\n",
    "#insert random data \n",
    "for num,value in enumerate(app_df.Itchy.values):\n",
    "    if value in [0,1,2]:\n",
    "        flesch.append(random.uniform(5,20))\n",
    "        sentiment.append(random.uniform(0,1))\n",
    "    else:\n",
    "        flesch.append(random.uniform(0,15))\n",
    "        sentiment.append(random.uniform(-1,0))\n",
    "    "
   ]
  },
  {
   "cell_type": "code",
   "execution_count": 565,
   "metadata": {
    "ExecuteTime": {
     "end_time": "2019-06-26T19:23:27.287667Z",
     "start_time": "2019-06-26T19:23:27.279512Z"
    }
   },
   "outputs": [],
   "source": [
    "app_df[\"Combined_\"] = app_df.sum(axis = 1) #sum"
   ]
  },
  {
   "cell_type": "code",
   "execution_count": 566,
   "metadata": {
    "ExecuteTime": {
     "end_time": "2019-06-26T19:23:27.619623Z",
     "start_time": "2019-06-26T19:23:27.610633Z"
    }
   },
   "outputs": [],
   "source": [
    "app_df[\"Sentiment\"]  = sentiment\n",
    "app_df[\"Flesch\"] = flesch"
   ]
  },
  {
   "cell_type": "code",
   "execution_count": 567,
   "metadata": {
    "ExecuteTime": {
     "end_time": "2019-06-26T19:23:27.976682Z",
     "start_time": "2019-06-26T19:23:27.960760Z"
    }
   },
   "outputs": [
    {
     "name": "stdout",
     "output_type": "stream",
     "text": [
      "25 % for total steps is 21.0\n",
      "50 % for total steps is 24.0\n",
      "75 % for total steps is 36.0\n"
     ]
    }
   ],
   "source": [
    "np.mean(app_df.Combined_)\n",
    "print(\"25 % for total steps is {}\".format(app_df.Combined_.quantile(q=.25)))\n",
    "print(\"50 % for total steps is {}\".format(app_df.Combined_.quantile()))\n",
    "print(\"75 % for total steps is {}\".format(app_df.Combined_.quantile(q=.75)))"
   ]
  },
  {
   "cell_type": "code",
   "execution_count": 568,
   "metadata": {
    "ExecuteTime": {
     "end_time": "2019-06-26T19:23:28.776539Z",
     "start_time": "2019-06-26T19:23:28.763574Z"
    }
   },
   "outputs": [],
   "source": [
    "def generate_random_labels(df):\n",
    "    \"\"\"Generate rigged labels for classification algorithm to predict\"\"\"\n",
    "  \n",
    "    if df.Combined_ <= 12 :\n",
    "        return 3\n",
    "    elif df.Combined_ >12 and df.Combined_ <=24:\n",
    "        return 2\n",
    "    elif df.Combined_ >24 and df.Combined_ <=36:\n",
    "        return 1\n",
    "    else:\n",
    "        return 0"
   ]
  },
  {
   "cell_type": "code",
   "execution_count": 569,
   "metadata": {
    "ExecuteTime": {
     "end_time": "2019-06-26T19:23:29.359109Z",
     "start_time": "2019-06-26T19:23:29.340044Z"
    }
   },
   "outputs": [
    {
     "data": {
      "text/plain": [
       "36    351\n",
       "24    350\n",
       "12    349\n",
       "48    346\n",
       "21      1\n",
       "Name: Combined_, dtype: int64"
      ]
     },
     "execution_count": 569,
     "metadata": {},
     "output_type": "execute_result"
    }
   ],
   "source": [
    "app_df.Combined_.value_counts()"
   ]
  },
  {
   "cell_type": "code",
   "execution_count": 570,
   "metadata": {
    "ExecuteTime": {
     "end_time": "2019-06-26T19:23:40.144425Z",
     "start_time": "2019-06-26T19:23:40.026844Z"
    }
   },
   "outputs": [],
   "source": [
    "app_df[\"target\"] = app_df.apply(func = lambda x : generate_random_labels(x), axis = 1)"
   ]
  },
  {
   "cell_type": "code",
   "execution_count": 571,
   "metadata": {
    "ExecuteTime": {
     "end_time": "2019-06-26T19:23:40.445627Z",
     "start_time": "2019-06-26T19:23:40.437646Z"
    }
   },
   "outputs": [],
   "source": [
    "app_df = app_df.sample(frac=1).reset_index(drop=True) #shuffle"
   ]
  },
  {
   "cell_type": "code",
   "execution_count": 572,
   "metadata": {
    "ExecuteTime": {
     "end_time": "2019-06-26T19:23:40.830323Z",
     "start_time": "2019-06-26T19:23:40.815464Z"
    }
   },
   "outputs": [
    {
     "name": "stdout",
     "output_type": "stream",
     "text": [
      "(1397, 15)\n",
      "['Itchy', 'Embarassed', 'Interfered', 'Clothes', 'Social', 'Sport', 'Partner', 'Sexual', 'Messy', 'Drainage', 'Odor', 'Swelling', 'Combined_', 'Sentiment', 'Flesch']\n",
      "(1397, 15)\n"
     ]
    }
   ],
   "source": [
    "#X and y \n",
    "X = app_df.iloc[:, :-1]\n",
    "print(X.shape)\n",
    "print(list(X))\n",
    "st = StandardScaler()\n",
    "X_ = st.fit_transform(X)\n",
    "print(X_.shape)"
   ]
  },
  {
   "cell_type": "code",
   "execution_count": 573,
   "metadata": {
    "ExecuteTime": {
     "end_time": "2019-06-26T19:23:41.158918Z",
     "start_time": "2019-06-26T19:23:41.152963Z"
    },
    "collapsed": true
   },
   "outputs": [],
   "source": [
    "y = app_df.target #target"
   ]
  },
  {
   "cell_type": "code",
   "execution_count": 574,
   "metadata": {
    "ExecuteTime": {
     "end_time": "2019-06-26T19:23:41.487787Z",
     "start_time": "2019-06-26T19:23:41.477813Z"
    },
    "collapsed": true
   },
   "outputs": [],
   "source": [
    "X_train, X_test, y_train, y_test = train_test_split(X, y)"
   ]
  },
  {
   "cell_type": "code",
   "execution_count": 601,
   "metadata": {
    "ExecuteTime": {
     "end_time": "2019-06-26T21:18:11.699419Z",
     "start_time": "2019-06-26T21:18:11.664514Z"
    }
   },
   "outputs": [
    {
     "data": {
      "text/plain": [
       "RandomForestClassifier(bootstrap=True, class_weight=None, criterion='gini',\n",
       "            max_depth=None, max_features='auto', max_leaf_nodes=None,\n",
       "            min_impurity_decrease=0.0, min_impurity_split=None,\n",
       "            min_samples_leaf=1, min_samples_split=2,\n",
       "            min_weight_fraction_leaf=0.0, n_estimators=10, n_jobs=1,\n",
       "            oob_score=False, random_state=None, verbose=0,\n",
       "            warm_start=False)"
      ]
     },
     "execution_count": 601,
     "metadata": {},
     "output_type": "execute_result"
    }
   ],
   "source": [
    "Clf_text = RandomForestClassifier()\n",
    "Clf_text.fit(X_train,y_train)"
   ]
  },
  {
   "cell_type": "code",
   "execution_count": 602,
   "metadata": {
    "ExecuteTime": {
     "end_time": "2019-06-26T21:18:12.705267Z",
     "start_time": "2019-06-26T21:18:12.696316Z"
    },
    "collapsed": true
   },
   "outputs": [],
   "source": [
    "pred_text = Clf_text.predict(X_test)"
   ]
  },
  {
   "cell_type": "code",
   "execution_count": 603,
   "metadata": {
    "ExecuteTime": {
     "end_time": "2019-06-26T21:18:13.295816Z",
     "start_time": "2019-06-26T21:18:13.283850Z"
    }
   },
   "outputs": [
    {
     "name": "stdout",
     "output_type": "stream",
     "text": [
      "             precision    recall  f1-score   support\n",
      "\n",
      "          0       1.00      1.00      1.00        81\n",
      "          1       1.00      1.00      1.00        97\n",
      "          2       1.00      1.00      1.00        83\n",
      "          3       1.00      1.00      1.00        89\n",
      "\n",
      "avg / total       1.00      1.00      1.00       350\n",
      "\n"
     ]
    }
   ],
   "source": [
    "print(classification_report(y_test,pred_text))"
   ]
  },
  {
   "cell_type": "code",
   "execution_count": 687,
   "metadata": {
    "ExecuteTime": {
     "end_time": "2019-06-26T23:49:13.716207Z",
     "start_time": "2019-06-26T23:49:13.703185Z"
    }
   },
   "outputs": [],
   "source": [
    "importances = Clf_text.feature_importances_"
   ]
  },
  {
   "cell_type": "code",
   "execution_count": 639,
   "metadata": {
    "ExecuteTime": {
     "end_time": "2019-06-26T21:58:06.633713Z",
     "start_time": "2019-06-26T21:58:06.626734Z"
    },
    "collapsed": true
   },
   "outputs": [],
   "source": [
    "font = {'family' : 'normal',\n",
    "        'weight' : 'bold',\n",
    "        'size'   : 50}\n",
    "\n",
    "matplotlib.rc('font', **font)\n",
    "# Sort feature importances in descending order\n",
    "plt.style.use(\"ggplot\")"
   ]
  },
  {
   "cell_type": "code",
   "execution_count": 690,
   "metadata": {
    "ExecuteTime": {
     "end_time": "2019-06-26T23:50:04.749984Z",
     "start_time": "2019-06-26T23:50:04.737018Z"
    },
    "collapsed": true
   },
   "outputs": [],
   "source": [
    "ex = pd.DataFrame()\n",
    "ex[\"names\"] = ['Itchy', 'Embarassed', 'Interfered', 'Clothes', 'Social', 'Sport', 'Partner', 'Sexual', 'Messy', 'Drainage', 'Odor', 'Swelling', 'Combined_', 'Sentiment', 'Flesch']\n",
    "ex[\"importance\"] = importances"
   ]
  },
  {
   "cell_type": "code",
   "execution_count": 701,
   "metadata": {
    "ExecuteTime": {
     "end_time": "2019-06-26T23:54:33.298288Z",
     "start_time": "2019-06-26T23:54:33.291304Z"
    }
   },
   "outputs": [],
   "source": [
    "ex = ex.sort_values(by = \"importance\",  ascending = False)"
   ]
  },
  {
   "cell_type": "code",
   "execution_count": 718,
   "metadata": {
    "ExecuteTime": {
     "end_time": "2019-06-27T00:04:27.017747Z",
     "start_time": "2019-06-27T00:04:23.545024Z"
    }
   },
   "outputs": [
    {
     "data": {
      "text/plain": [
       "<matplotlib.figure.Figure at 0x270029e7cf8>"
      ]
     },
     "metadata": {},
     "output_type": "display_data"
    },
    {
     "data": {
      "image/png": "[encoded data removed]",
      "text/plain": [
       "<matplotlib.figure.Figure at 0x27002a71a58>"
      ]
     },
     "metadata": {},
     "output_type": "display_data"
    }
   ],
   "source": [
    "plt.figure(figsize = (30,10))\n",
    "\n",
    "#which features are the most important?\n",
    "plt.tight_layout()\n",
    "ax = ex.plot(kind = \"bar\",colormap = \"Paired\",title = \"Feature Importance for Question Data\" )\n",
    "ax.set_xlabel(\"Feature\")\n",
    "ax.set_ylabel(\"Importance\")\n",
    "ax.set_xticklabels(ex[\"names\"])\n",
    "plt.savefig(\"Feature_Importance.png\",bbox_inches = 'tight')"
   ]
  },
  {
   "cell_type": "code",
   "execution_count": 578,
   "metadata": {
    "ExecuteTime": {
     "end_time": "2019-06-26T19:25:14.121995Z",
     "start_time": "2019-06-26T19:25:14.116501Z"
    }
   },
   "outputs": [],
   "source": [
    "gauss = LogisticRegression( multi_class='multinomial',solver = 'lbfgs')"
   ]
  },
  {
   "cell_type": "code",
   "execution_count": 593,
   "metadata": {
    "ExecuteTime": {
     "end_time": "2019-06-26T19:27:01.360533Z",
     "start_time": "2019-06-26T19:27:01.355560Z"
    },
    "collapsed": true
   },
   "outputs": [],
   "source": [
    "gauss = LogisticRegression()"
   ]
  },
  {
   "cell_type": "code",
   "execution_count": 594,
   "metadata": {
    "ExecuteTime": {
     "end_time": "2019-06-26T19:27:01.769356Z",
     "start_time": "2019-06-26T19:27:01.741523Z"
    }
   },
   "outputs": [
    {
     "data": {
      "text/plain": [
       "LogisticRegression(C=1.0, class_weight=None, dual=False, fit_intercept=True,\n",
       "          intercept_scaling=1, max_iter=100, multi_class='ovr', n_jobs=1,\n",
       "          penalty='l2', random_state=None, solver='liblinear', tol=0.0001,\n",
       "          verbose=0, warm_start=False)"
      ]
     },
     "execution_count": 594,
     "metadata": {},
     "output_type": "execute_result"
    }
   ],
   "source": [
    "gauss.fit(X_train,y_train)"
   ]
  },
  {
   "cell_type": "code",
   "execution_count": 595,
   "metadata": {
    "ExecuteTime": {
     "end_time": "2019-06-26T19:27:02.255060Z",
     "start_time": "2019-06-26T19:27:02.246285Z"
    }
   },
   "outputs": [
    {
     "name": "stdout",
     "output_type": "stream",
     "text": [
      "             precision    recall  f1-score   support\n",
      "\n",
      "          0       0.86      1.00      0.93        81\n",
      "          1       0.95      0.78      0.86        97\n",
      "          2       0.91      0.95      0.93        83\n",
      "          3       1.00      1.00      1.00        89\n",
      "\n",
      "avg / total       0.93      0.93      0.93       350\n",
      "\n"
     ]
    }
   ],
   "source": [
    "print(classification_report(y_test,gauss.predict(X_test)))"
   ]
  },
  {
   "cell_type": "code",
   "execution_count": 597,
   "metadata": {
    "ExecuteTime": {
     "end_time": "2019-06-26T19:27:28.836578Z",
     "start_time": "2019-06-26T19:27:28.830594Z"
    },
    "collapsed": true
   },
   "outputs": [],
   "source": [
    "custom_cv = custom_cv_5folds(X)\n",
    "Clf_text = LogisticRegression(multi_class = \"multinomial\",solver='lbfgs',)"
   ]
  },
  {
   "cell_type": "code",
   "execution_count": 598,
   "metadata": {
    "ExecuteTime": {
     "end_time": "2019-06-26T19:27:29.626790Z",
     "start_time": "2019-06-26T19:27:29.098879Z"
    }
   },
   "outputs": [
    {
     "data": {
      "text/plain": [
       "array([0.96428571, 0.96428571, 0.97857143, 0.97857143, 0.98928571])"
      ]
     },
     "execution_count": 598,
     "metadata": {},
     "output_type": "execute_result"
    }
   ],
   "source": [
    "cross_val_score(Clf_text, X, y, cv=custom_cv)"
   ]
  },
  {
   "cell_type": "code",
   "execution_count": 724,
   "metadata": {
    "ExecuteTime": {
     "end_time": "2019-06-27T01:25:47.906089Z",
     "start_time": "2019-06-27T01:25:47.893113Z"
    }
   },
   "outputs": [],
   "source": [
    "i = 0\n",
    "num = 10\n",
    "li = []\n",
    "while i < 15:\n",
    "    num = random.randint(num - 2,num+1)\n",
    "    if num < 0:\n",
    "        num = 0\n",
    "    if num == 11:\n",
    "        num = 10\n",
    "    li.append(num)\n",
    "    i+=1\n",
    "    "
   ]
  },
  {
   "cell_type": "code",
   "execution_count": 726,
   "metadata": {
    "ExecuteTime": {
     "end_time": "2019-06-27T01:26:13.397360Z",
     "start_time": "2019-06-27T01:26:13.387512Z"
    }
   },
   "outputs": [],
   "source": [
    "x = pd.DataFrame()\n",
    "x[\"Weeks\"] = [\"Week {}\".format(num+1) for num in range(15)]\n",
    "x[\"Odor\"] = li"
   ]
  },
  {
   "cell_type": "code",
   "execution_count": 727,
   "metadata": {
    "ExecuteTime": {
     "end_time": "2019-06-27T01:26:26.436105Z",
     "start_time": "2019-06-27T01:26:24.909154Z"
    }
   },
   "outputs": [
    {
     "data": {
      "image/png": "[encoded data removed]",
      "text/plain": [
       "<matplotlib.figure.Figure at 0x270027724a8>"
      ]
     },
     "metadata": {},
     "output_type": "display_data"
    }
   ],
   "source": [
    "ax = x.plot(colormap = \"jet\", marker = \".\",title = \"Odor levels as recorded by patient\")\n",
    "ax.set_xlabel(\"Week\")\n",
    "ax.set_ylabel(\"Odor Level\")\n",
    "plt.savefig(\"Odor over time.png\")"
   ]
  },
  {
   "cell_type": "code",
   "execution_count": null,
   "metadata": {
    "collapsed": true
   },
   "outputs": [],
   "source": []
  }
 ],
 "metadata": {
  "kernelspec": {
   "display_name": "Python 3",
   "language": "python",
   "name": "python3"
  },
  "language_info": {
   "codemirror_mode": {
    "name": "ipython",
    "version": 3
   },
   "file_extension": ".py",
   "mimetype": "text/x-python",
   "name": "python",
   "nbconvert_exporter": "python",
   "pygments_lexer": "ipython3",
   "version": "3.6.3"
  }
 },
 "nbformat": 4,
 "nbformat_minor": 2
}
